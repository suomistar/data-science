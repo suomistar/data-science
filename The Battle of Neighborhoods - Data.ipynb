{
    "cells": [
        {
            "cell_type": "markdown",
            "metadata": {
                "collapsed": true
            },
            "source": "# Data"
        },
        {
            "cell_type": "code",
            "execution_count": null,
            "metadata": {},
            "outputs": [],
            "source": "For each of places, we can get the longitude and latitude value by either geolocator or \nhttps://www.latlong.net. \n"
        },
        {
            "cell_type": "markdown",
            "metadata": {},
            "source": "Then we can call the foursquare api:\n    \nhttps://api.foursquare.com/v2/venues/search?client_id={{client_id}}&client_secret={{client_secret}}&v={{v}}&ll=28.2916,-16.6291&intent=browse&radius=100000&limit=30 \n\n"
        },
        {
            "cell_type": "markdown",
            "metadata": {},
            "source": "The longitude and latitude are searched, and the radius is using 100 km. \nThe result would be a list of venues that that a typical user is likely to checkin to at the provided. And by using the browse as intent parameter value, searches an entire region instead of only finding venues closest to a point. Here it specifies the radius as 100km and limited the result as 100.\nThus we get 100 venues for each of optional places.\nThe information of a venue we used would be name and category. For each of venue, we can get the datafram e.g."
        },
        {
            "cell_type": "code",
            "execution_count": 2,
            "metadata": {},
            "outputs": [
                {
                    "data": {
                        "text/html": "<div>\n<style scoped>\n    .dataframe tbody tr th:only-of-type {\n        vertical-align: middle;\n    }\n\n    .dataframe tbody tr th {\n        vertical-align: top;\n    }\n\n    .dataframe thead th {\n        text-align: right;\n    }\n</style>\n<table border=\"1\" class=\"dataframe\">\n  <thead>\n    <tr style=\"text-align: right;\">\n      <th></th>\n      <th>Destination</th>\n      <th>Venue Name</th>\n      <th>venue category</th>\n    </tr>\n  </thead>\n  <tbody>\n    <tr>\n      <th>0</th>\n      <td>Tenerife</td>\n      <td>Pico del Teide</td>\n      <td>Mountain Hut</td>\n    </tr>\n    <tr>\n      <th>1</th>\n      <td>Tenerife</td>\n      <td>Vinkumkum room</td>\n      <td>Housing Development</td>\n    </tr>\n  </tbody>\n</table>\n</div>",
                        "text/plain": "  Destination      Venue Name       venue category\n0    Tenerife  Pico del Teide         Mountain Hut\n1    Tenerife  Vinkumkum room  Housing Development"
                    },
                    "execution_count": 2,
                    "metadata": {},
                    "output_type": "execute_result"
                }
            ],
            "source": "import pandas as pd \n  \n# initialize list of lists \ndata = [['Tenerife', 'Pico del Teide', 'Mountain Hut'], ['Tenerife', 'Vinkumkum room', 'Housing Development']] \n  \n# Create the pandas DataFrame \ndf = pd.DataFrame(data, columns = ['Destination','Venue Name', 'venue category']) \n  \n# print dataframe. \ndf "
        },
        {
            "cell_type": "markdown",
            "metadata": {},
            "source": "The example only shows two rows. As we set the limit to 100, for each destination, there would be 100 rows."
        },
        {
            "cell_type": "markdown",
            "metadata": {},
            "source": "We can then one hot the venue\u2019s category for each venues and group them by the place name. Then we can for each place find the 10 top venues and create a new data frame.\nE.g.\n"
        },
        {
            "cell_type": "code",
            "execution_count": 6,
            "metadata": {},
            "outputs": [
                {
                    "data": {
                        "text/html": "<div>\n<style scoped>\n    .dataframe tbody tr th:only-of-type {\n        vertical-align: middle;\n    }\n\n    .dataframe tbody tr th {\n        vertical-align: top;\n    }\n\n    .dataframe thead th {\n        text-align: right;\n    }\n</style>\n<table border=\"1\" class=\"dataframe\">\n  <thead>\n    <tr style=\"text-align: right;\">\n      <th></th>\n      <th>Destination</th>\n      <th>1st Most Common Venue</th>\n      <th>2nd Most Common Venue</th>\n      <th>3rd Most Common Venue</th>\n      <th>4th Most Common Venue</th>\n      <th>5th Most Common Venue</th>\n      <th>6th Most Common Venue</th>\n      <th>7th Most Common Venue</th>\n      <th>8th Most Common Venue</th>\n      <th>9th Most Common Venue</th>\n      <th>10th Most Common Venue</th>\n    </tr>\n  </thead>\n  <tbody>\n  </tbody>\n</table>\n</div>",
                        "text/plain": "Empty DataFrame\nColumns: [Destination, 1st Most Common Venue, 2nd Most Common Venue, 3rd Most Common Venue, 4th Most Common Venue, 5th Most Common Venue, 6th Most Common Venue, 7th Most Common Venue, 8th Most Common Venue, 9th Most Common Venue, 10th Most Common Venue]\nIndex: []"
                    },
                    "execution_count": 6,
                    "metadata": {},
                    "output_type": "execute_result"
                }
            ],
            "source": "import numpy as np\nnum_top_venues = 10\n\nindicators = ['st', 'nd', 'rd']\n\n# create columns according to number of top venues\ncolumns = ['Destination']\nfor ind in np.arange(num_top_venues):\n    try:\n        columns.append('{}{} Most Common Venue'.format(ind+1, indicators[ind]))\n    except:\n        columns.append('{}th Most Common Venue'.format(ind+1))\ndf = pd.DataFrame(columns=columns)\ndf"
        },
        {
            "cell_type": "markdown",
            "metadata": {},
            "source": "Upon the resulted data frame, we can run k means clustering, add clustering labels for each place. \nFor the places that having the same label, we can say that they are similar.\n"
        }
    ],
    "metadata": {
        "kernelspec": {
            "display_name": "Python 3.6",
            "language": "python",
            "name": "python3"
        },
        "language_info": {
            "codemirror_mode": {
                "name": "ipython",
                "version": 3
            },
            "file_extension": ".py",
            "mimetype": "text/x-python",
            "name": "python",
            "nbconvert_exporter": "python",
            "pygments_lexer": "ipython3",
            "version": "3.6.8"
        }
    },
    "nbformat": 4,
    "nbformat_minor": 1
}