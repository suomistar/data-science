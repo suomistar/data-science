{
    "cells": [
        {
            "cell_type": "markdown",
            "metadata": {
                "collapsed": true
            },
            "source": "# Introduction for Battle of Neighborhoods"
        },
        {
            "cell_type": "markdown",
            "metadata": {},
            "source": "## Business problem"
        },
        {
            "cell_type": "markdown",
            "metadata": {},
            "source": "How excited when the holiday season is coming, and you plan to have a wonderful trip with your family. \nAnd then the first problem you need take time to tackle is where to go. You may have many different options, \nthe places you would like to visit, and they all look attractive. \nSometimes it is quite hard to choose a desired one and convince your partner too.\n\nAn application that can compare the optional destinations and determine how similar or dissimilar they are \nwould be useful for this case. Practically, the app can group the destinations into different categories, and \nthus it will help you make a decision based on the grouped result. \n\nE.g. you may have 5 possible destinations to travel: Tenerife, Santorini, Maldives, Phuket, Honolulu. They \nare all perfect islands for travel during vacation. It would be helpful to find out whether those islands are \nsimilar or dissimilar. E.g. If Maldives and Phuket fall into one group, but they are in different groups than \nTenerife and Santorini, for the users whos want to experience two different kinds of islands, they can choose \none of them from Maldives and Phuket and another from Tenerife and Santorini.\n\n\n\n"
        },
        {
            "cell_type": "code",
            "execution_count": null,
            "metadata": {},
            "outputs": [],
            "source": ""
        }
    ],
    "metadata": {
        "kernelspec": {
            "display_name": "Python 3.6",
            "language": "python",
            "name": "python3"
        },
        "language_info": {
            "codemirror_mode": {
                "name": "ipython",
                "version": 3
            },
            "file_extension": ".py",
            "mimetype": "text/x-python",
            "name": "python",
            "nbconvert_exporter": "python",
            "pygments_lexer": "ipython3",
            "version": "3.6.8"
        }
    },
    "nbformat": 4,
    "nbformat_minor": 1
}